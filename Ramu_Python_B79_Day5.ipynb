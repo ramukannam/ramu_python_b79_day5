{
 "cells": [
  {
   "cell_type": "code",
   "execution_count": null,
   "id": "bde355e2",
   "metadata": {},
   "outputs": [],
   "source": [
    "# continuation with list datatype"
   ]
  },
  {
   "cell_type": "code",
   "execution_count": null,
   "id": "93a70f2c",
   "metadata": {},
   "outputs": [],
   "source": [
    "#organising the list datatype-:"
   ]
  },
  {
   "cell_type": "code",
   "execution_count": null,
   "id": "14d0bdb8",
   "metadata": {},
   "outputs": [],
   "source": [
    "# sorted,sort,reverse,len, slicing,step count,negitive indexing(-)"
   ]
  },
  {
   "cell_type": "code",
   "execution_count": null,
   "id": "c9a5f822",
   "metadata": {},
   "outputs": [],
   "source": []
  },
  {
   "cell_type": "code",
   "execution_count": null,
   "id": "98e39525",
   "metadata": {},
   "outputs": [],
   "source": [
    "#sorted- two types 1) Temp approch - able to get original order back.2) permanent approch - all changes are implied permanently"
   ]
  },
  {
   "cell_type": "code",
   "execution_count": 2,
   "id": "cdc708ec",
   "metadata": {},
   "outputs": [],
   "source": [
    "cars = ['suzuki','maruthi','honda','tata','kia','audi','benz','bmw']"
   ]
  },
  {
   "cell_type": "code",
   "execution_count": 17,
   "id": "265ee5cf",
   "metadata": {},
   "outputs": [
    {
     "data": {
      "text/plain": [
       "list"
      ]
     },
     "execution_count": 17,
     "metadata": {},
     "output_type": "execute_result"
    }
   ],
   "source": [
    "type(cars)"
   ]
  },
  {
   "cell_type": "code",
   "execution_count": 6,
   "id": "cbd3f74b",
   "metadata": {},
   "outputs": [
    {
     "name": "stdout",
     "output_type": "stream",
     "text": [
      "['suzuki', 'maruthi', 'honda', 'tata', 'kia', 'audi', 'benz', 'bmw']\n"
     ]
    }
   ],
   "source": [
    "print(cars)"
   ]
  },
  {
   "cell_type": "code",
   "execution_count": 7,
   "id": "adb0c912",
   "metadata": {},
   "outputs": [
    {
     "name": "stdout",
     "output_type": "stream",
     "text": [
      "['audi', 'benz', 'bmw', 'honda', 'kia', 'maruthi', 'suzuki', 'tata']\n"
     ]
    }
   ],
   "source": [
    "print(sorted(cars))"
   ]
  },
  {
   "cell_type": "code",
   "execution_count": 10,
   "id": "7bec2fed",
   "metadata": {},
   "outputs": [
    {
     "name": "stdout",
     "output_type": "stream",
     "text": [
      "['suzuki', 'maruthi', 'honda', 'tata', 'kia', 'audi', 'benz', 'bmw']\n"
     ]
    }
   ],
   "source": [
    "print(cars)"
   ]
  },
  {
   "cell_type": "code",
   "execution_count": null,
   "id": "aa49c827",
   "metadata": {},
   "outputs": [],
   "source": [
    "#above output is in original order"
   ]
  },
  {
   "cell_type": "code",
   "execution_count": null,
   "id": "bb809b80",
   "metadata": {},
   "outputs": [],
   "source": [
    "#sort"
   ]
  },
  {
   "cell_type": "code",
   "execution_count": 12,
   "id": "ead74531",
   "metadata": {},
   "outputs": [
    {
     "name": "stdout",
     "output_type": "stream",
     "text": [
      "['suzuki', 'maruthi', 'honda', 'tata', 'kia', 'audi', 'benz', 'bmw']\n"
     ]
    }
   ],
   "source": [
    "print(cars)"
   ]
  },
  {
   "cell_type": "code",
   "execution_count": 15,
   "id": "9f5f8009",
   "metadata": {},
   "outputs": [],
   "source": [
    "cars.sort()"
   ]
  },
  {
   "cell_type": "code",
   "execution_count": 16,
   "id": "6a15aabf",
   "metadata": {},
   "outputs": [
    {
     "name": "stdout",
     "output_type": "stream",
     "text": [
      "['audi', 'benz', 'bmw', 'honda', 'kia', 'maruthi', 'suzuki', 'tata']\n"
     ]
    }
   ],
   "source": [
    "print(cars)"
   ]
  },
  {
   "cell_type": "code",
   "execution_count": null,
   "id": "afb6d49f",
   "metadata": {},
   "outputs": [],
   "source": [
    "#reverse(z-A)"
   ]
  },
  {
   "cell_type": "code",
   "execution_count": 18,
   "id": "aeb4b3eb",
   "metadata": {},
   "outputs": [
    {
     "name": "stdout",
     "output_type": "stream",
     "text": [
      "['audi', 'benz', 'bmw', 'honda', 'kia', 'maruthi', 'suzuki', 'tata']\n"
     ]
    }
   ],
   "source": [
    "print(cars)"
   ]
  },
  {
   "cell_type": "code",
   "execution_count": 19,
   "id": "26a301e5",
   "metadata": {},
   "outputs": [
    {
     "name": "stdout",
     "output_type": "stream",
     "text": [
      "['tata', 'suzuki', 'maruthi', 'kia', 'honda', 'bmw', 'benz', 'audi']\n"
     ]
    }
   ],
   "source": [
    "cars.reverse()\n",
    "print(cars)"
   ]
  },
  {
   "cell_type": "code",
   "execution_count": null,
   "id": "c6fdfd45",
   "metadata": {},
   "outputs": [],
   "source": [
    "#len - calculate the no of elements in the list"
   ]
  },
  {
   "cell_type": "code",
   "execution_count": 20,
   "id": "c5202de9",
   "metadata": {},
   "outputs": [
    {
     "data": {
      "text/plain": [
       "8"
      ]
     },
     "execution_count": 20,
     "metadata": {},
     "output_type": "execute_result"
    }
   ],
   "source": [
    "len(cars)"
   ]
  },
  {
   "cell_type": "code",
   "execution_count": null,
   "id": "ae58f447",
   "metadata": {},
   "outputs": [],
   "source": [
    "#slicing"
   ]
  },
  {
   "cell_type": "code",
   "execution_count": null,
   "id": "52abfb69",
   "metadata": {},
   "outputs": [],
   "source": [
    "#general syntax - [startvalue:stopvalue:stepcount]"
   ]
  },
  {
   "cell_type": "code",
   "execution_count": null,
   "id": "9612276a",
   "metadata": {},
   "outputs": [],
   "source": [
    "#note - stopvalue is always exculde, to include the stopvalue,we have to increment the number by +1"
   ]
  },
  {
   "cell_type": "code",
   "execution_count": 21,
   "id": "8d121c36",
   "metadata": {},
   "outputs": [
    {
     "name": "stdout",
     "output_type": "stream",
     "text": [
      "['tata', 'suzuki', 'maruthi', 'kia', 'honda', 'bmw', 'benz', 'audi']\n"
     ]
    }
   ],
   "source": [
    "print(cars)"
   ]
  },
  {
   "cell_type": "code",
   "execution_count": null,
   "id": "686195b2",
   "metadata": {},
   "outputs": [],
   "source": [
    "#i want output for tata and suzuki?"
   ]
  },
  {
   "cell_type": "code",
   "execution_count": 22,
   "id": "f13c6b20",
   "metadata": {},
   "outputs": [
    {
     "name": "stdout",
     "output_type": "stream",
     "text": [
      "['tata']\n"
     ]
    }
   ],
   "source": [
    "print(cars[0:1])"
   ]
  },
  {
   "cell_type": "code",
   "execution_count": null,
   "id": "26c664d4",
   "metadata": {},
   "outputs": [],
   "source": [
    "# as per note we should increment the stopvalue by +1...here the syntax would be"
   ]
  },
  {
   "cell_type": "code",
   "execution_count": 23,
   "id": "22c9860f",
   "metadata": {},
   "outputs": [
    {
     "name": "stdout",
     "output_type": "stream",
     "text": [
      "['tata', 'suzuki']\n"
     ]
    }
   ],
   "source": [
    "print(cars[0:2])"
   ]
  },
  {
   "cell_type": "code",
   "execution_count": 24,
   "id": "e3c968ea",
   "metadata": {},
   "outputs": [
    {
     "name": "stdout",
     "output_type": "stream",
     "text": [
      "['maruthi', 'kia', 'honda', 'bmw', 'benz', 'audi']\n"
     ]
    }
   ],
   "source": [
    "print(cars[2:9])"
   ]
  },
  {
   "cell_type": "code",
   "execution_count": null,
   "id": "73a1a890",
   "metadata": {},
   "outputs": [],
   "source": [
    "#spetcount - -- 0, 2, 8..."
   ]
  },
  {
   "cell_type": "code",
   "execution_count": 25,
   "id": "938dc059",
   "metadata": {},
   "outputs": [
    {
     "name": "stdout",
     "output_type": "stream",
     "text": [
      "['tata', 'suzuki', 'maruthi', 'kia', 'honda', 'bmw', 'benz', 'audi']\n"
     ]
    }
   ],
   "source": [
    "print(cars)"
   ]
  },
  {
   "cell_type": "code",
   "execution_count": null,
   "id": "4f02c3cc",
   "metadata": {},
   "outputs": [],
   "source": [
    "#to get alternate slicing-general syntax is [start value:end value:step count]"
   ]
  },
  {
   "cell_type": "code",
   "execution_count": 27,
   "id": "ca84d757",
   "metadata": {},
   "outputs": [
    {
     "name": "stdout",
     "output_type": "stream",
     "text": [
      "['maruthi', 'honda', 'benz']\n"
     ]
    }
   ],
   "source": [
    "print(cars[2:8:2])"
   ]
  },
  {
   "cell_type": "code",
   "execution_count": null,
   "id": "69f8629e",
   "metadata": {},
   "outputs": [],
   "source": [
    "#negative(-)indexing.......-4,-3,-2,-1....."
   ]
  },
  {
   "cell_type": "code",
   "execution_count": 28,
   "id": "c042ef99",
   "metadata": {},
   "outputs": [
    {
     "name": "stdout",
     "output_type": "stream",
     "text": [
      "['tata', 'suzuki', 'maruthi', 'kia', 'honda', 'bmw', 'benz', 'audi']\n"
     ]
    }
   ],
   "source": [
    "print(cars)"
   ]
  },
  {
   "cell_type": "code",
   "execution_count": 29,
   "id": "0c4a676f",
   "metadata": {},
   "outputs": [
    {
     "name": "stdout",
     "output_type": "stream",
     "text": [
      "audi\n"
     ]
    }
   ],
   "source": [
    "print(cars[-1])"
   ]
  },
  {
   "cell_type": "code",
   "execution_count": null,
   "id": "99690002",
   "metadata": {},
   "outputs": [],
   "source": []
  },
  {
   "cell_type": "code",
   "execution_count": null,
   "id": "6fd5d3b6",
   "metadata": {},
   "outputs": [],
   "source": []
  },
  {
   "cell_type": "code",
   "execution_count": null,
   "id": "e56d1b5b",
   "metadata": {},
   "outputs": [],
   "source": []
  },
  {
   "cell_type": "code",
   "execution_count": null,
   "id": "c5ee142a",
   "metadata": {},
   "outputs": [],
   "source": []
  },
  {
   "cell_type": "code",
   "execution_count": null,
   "id": "4776f354",
   "metadata": {},
   "outputs": [],
   "source": []
  }
 ],
 "metadata": {
  "kernelspec": {
   "display_name": "Python 3 (ipykernel)",
   "language": "python",
   "name": "python3"
  },
  "language_info": {
   "codemirror_mode": {
    "name": "ipython",
    "version": 3
   },
   "file_extension": ".py",
   "mimetype": "text/x-python",
   "name": "python",
   "nbconvert_exporter": "python",
   "pygments_lexer": "ipython3",
   "version": "3.10.9"
  }
 },
 "nbformat": 4,
 "nbformat_minor": 5
}
